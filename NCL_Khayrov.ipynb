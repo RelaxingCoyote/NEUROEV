{
  "nbformat": 4,
  "nbformat_minor": 0,
  "metadata": {
    "colab": {
      "name": "NCL_Khayrov.ipynb",
      "provenance": [],
      "collapsed_sections": [],
      "authorship_tag": "ABX9TyN0TAAcGDkL3PA62eLaJh7V",
      "include_colab_link": true
    },
    "kernelspec": {
      "name": "python3",
      "display_name": "Python 3"
    }
  },
  "cells": [
    {
      "cell_type": "markdown",
      "metadata": {
        "id": "view-in-github",
        "colab_type": "text"
      },
      "source": [
        "<a href=\"https://colab.research.google.com/github/RelaxingCoyote/NEUROEV/blob/main/NCL_Khayrov.ipynb\" target=\"_parent\"><img src=\"https://colab.research.google.com/assets/colab-badge.svg\" alt=\"Open In Colab\"/></a>"
      ]
    },
    {
      "cell_type": "markdown",
      "metadata": {
        "id": "4AF9porDi__B"
      },
      "source": [
        "#Нейроэволюционные вычисления"
      ]
    },
    {
      "cell_type": "markdown",
      "metadata": {
        "id": "MSdEKikMh9kf"
      },
      "source": [
        "[![Open In Colab](https://colab.research.google.com/assets/colab-badge.svg)](https://colab.research.google.com/drive/1-EpdWG47AK3_W6bAYBrHNKM6vCYej-O3#scrollTo=MSdEKikMh9kf)"
      ]
    },
    {
      "cell_type": "markdown",
      "metadata": {
        "id": "cyZW6dD7o4Qm"
      },
      "source": [
        "Подключаем гугл-диск."
      ]
    },
    {
      "cell_type": "code",
      "metadata": {
        "colab": {
          "base_uri": "https://localhost:8080/"
        },
        "id": "CV4aRBkQiDtP",
        "outputId": "f0a60dcf-31e4-4ac5-91ea-557f2e6c4683"
      },
      "source": [
        "from google.colab import drive\n",
        "drive.mount(\"/content/gdrive\", force_remount=True)"
      ],
      "execution_count": 1,
      "outputs": [
        {
          "output_type": "stream",
          "text": [
            "Mounted at /content/gdrive\n"
          ],
          "name": "stdout"
        }
      ]
    },
    {
      "cell_type": "markdown",
      "metadata": {
        "id": "XbAVhccypAuD"
      },
      "source": [
        "Устанавливаем пакет Datatable."
      ]
    },
    {
      "cell_type": "code",
      "metadata": {
        "colab": {
          "base_uri": "https://localhost:8080/"
        },
        "id": "kddRjrRGOnxL",
        "outputId": "0986f68e-061c-4e7b-e90e-425476ac2d54"
      },
      "source": [
        "pip install datatable"
      ],
      "execution_count": 2,
      "outputs": [
        {
          "output_type": "stream",
          "text": [
            "Collecting datatable\n",
            "\u001b[?25l  Downloading https://files.pythonhosted.org/packages/26/fc/d780b150eeae26e0a14b964f27eefcf9fad746f16e0b05c40098d84913d7/datatable-0.11.1-cp37-cp37m-manylinux2010_x86_64.whl (83.9MB)\n",
            "\u001b[K     |████████████████████████████████| 83.9MB 46kB/s \n",
            "\u001b[?25hInstalling collected packages: datatable\n",
            "Successfully installed datatable-0.11.1\n"
          ],
          "name": "stdout"
        }
      ]
    },
    {
      "cell_type": "markdown",
      "metadata": {
        "id": "4UaEi4RfpLeJ"
      },
      "source": [
        "Импортируем необходимые библиотеки."
      ]
    },
    {
      "cell_type": "code",
      "metadata": {
        "colab": {
          "base_uri": "https://localhost:8080/"
        },
        "id": "aFLNrkClOqeh",
        "outputId": "00e9d665-ad91-406a-aa0e-245e84b0595f"
      },
      "source": [
        "import datatable as dt\n",
        "print(dt.__version__)"
      ],
      "execution_count": 3,
      "outputs": [
        {
          "output_type": "stream",
          "text": [
            "0.11.1\n"
          ],
          "name": "stdout"
        }
      ]
    },
    {
      "cell_type": "markdown",
      "metadata": {
        "id": "_uGr2In2piTi"
      },
      "source": [
        "Загружаем набор данных."
      ]
    },
    {
      "cell_type": "code",
      "metadata": {
        "colab": {
          "base_uri": "https://localhost:8080/",
          "height": 925
        },
        "id": "FMmbw_CJPE-i",
        "outputId": "40a8bb9c-6bf3-48c3-ec61-8fe2faaab7c2"
      },
      "source": [
        "DT = dt.fread('/content/gdrive/MyDrive/Machine Learning/NEUROEV/cancer1.dt')\n",
        "DT"
      ],
      "execution_count": 4,
      "outputs": [
        {
          "output_type": "stream",
          "text": [
            "    | C0                         C1    C2    C3    C4    C5    C6    C7    C8  C9  C10\n",
            "--- + -----------------------  ----  ----  ----  ----  ----  ----  ----  ----  --  ---\n",
            "  0 | bool_in=0                NA    NA    NA    NA    NA    NA    NA    NA    NA   NA\n",
            "  1 | real_in=9                NA    NA    NA    NA    NA    NA    NA    NA    NA   NA\n",
            "  2 | bool_out=2               NA    NA    NA    NA    NA    NA    NA    NA    NA   NA\n",
            "  3 | real_out=0               NA    NA    NA    NA    NA    NA    NA    NA    NA   NA\n",
            "  4 | training_examples=350    NA    NA    NA    NA    NA    NA    NA    NA    NA   NA\n",
            "  5 | validation_examples=175  NA    NA    NA    NA    NA    NA    NA    NA    NA   NA\n",
            "  6 | test_examples=174        NA    NA    NA    NA    NA    NA    NA    NA    NA   NA\n",
            "  7 | 0.2                       0.1   0.1   0.1   0.2   0.1   0.2   0.1   0.1   1    0\n",
            "  8 | 0.2                       0.1   0.1   0.1   0.2   0.1   0.3   0.1   0.1   1    0\n",
            "  9 | 0.5                       0.1   0.1   0.1   0.2   0.1   0.2   0.1   0.1   1    0\n",
            " 10 | 0.5                       0.4   0.6   0.8   0.4   0.1   0.8   1     0.1   0    1\n",
            " 11 | 0.5                       0.3   0.3   0.1   0.2   0.1   0.2   0.1   0.1   1    0\n",
            " 12 | 0.2                       0.3   0.1   0.1   0.3   0.1   0.1   0.1   0.1   1    0\n",
            " 13 | 0.3                       0.5   0.7   0.8   0.8   0.9   0.7   1     0.7   0    1\n",
            " 14 | 1                         0.5   0.6   1     0.6   1     0.7   0.7   1     0    1\n",
            "  … | …                           …     …     …     …     …     …     …     …   …    …\n",
            "701 | 0.5                       0.1   0.2   0.1   0.2   0.1   0.1   0.1   0.1   1    0\n",
            "702 | 0.7                       0.5   0.6   1     0.5   1     0.7   0.9   0.4   0    1\n",
            "703 | 0.6                       1     1     1     0.8   1     0.7   1     0.7   0    1\n",
            "704 | 0.5                       0.7   1     1     0.5   1     1     1     0.1   0    1\n",
            "705 | 0.1                       0.1   0.1   0.1   0.2   0.1   0.2   0.1   0.1   1    0\n",
            "\n",
            "[706 rows x 11 columns]\n"
          ],
          "name": "stdout"
        },
        {
          "output_type": "execute_result",
          "data": {
            "text/html": [
              "<div class='datatable'>\n",
              "  <table class='frame'>\n",
              "  <thead>\n",
              "    <tr class='colnames'><td class='row_index'></td><th>C0</th><th>C1</th><th>C2</th><th>C3</th><th>C4</th><th>C5</th><th>C6</th><th>C7</th><th>C8</th><th>C9</th><th>C10</th></tr>\n",
              "    <tr class='coltypes'><td class='row_index'></td><td class='str' title='str32'>&#x25AA;&#x25AA;&#x25AA;&#x25AA;</td><td class='float' title='float64'>&#x25AA;&#x25AA;&#x25AA;&#x25AA;&#x25AA;&#x25AA;&#x25AA;&#x25AA;</td><td class='float' title='float64'>&#x25AA;&#x25AA;&#x25AA;&#x25AA;&#x25AA;&#x25AA;&#x25AA;&#x25AA;</td><td class='float' title='float64'>&#x25AA;&#x25AA;&#x25AA;&#x25AA;&#x25AA;&#x25AA;&#x25AA;&#x25AA;</td><td class='float' title='float64'>&#x25AA;&#x25AA;&#x25AA;&#x25AA;&#x25AA;&#x25AA;&#x25AA;&#x25AA;</td><td class='float' title='float64'>&#x25AA;&#x25AA;&#x25AA;&#x25AA;&#x25AA;&#x25AA;&#x25AA;&#x25AA;</td><td class='float' title='float64'>&#x25AA;&#x25AA;&#x25AA;&#x25AA;&#x25AA;&#x25AA;&#x25AA;&#x25AA;</td><td class='float' title='float64'>&#x25AA;&#x25AA;&#x25AA;&#x25AA;&#x25AA;&#x25AA;&#x25AA;&#x25AA;</td><td class='float' title='float64'>&#x25AA;&#x25AA;&#x25AA;&#x25AA;&#x25AA;&#x25AA;&#x25AA;&#x25AA;</td><td class='bool' title='bool8'>&#x25AA;</td><td class='bool' title='bool8'>&#x25AA;</td></tr>\n",
              "  </thead>\n",
              "  <tbody>\n",
              "    <tr><td class='row_index'>0</td><td>bool_in=0</td><td><span class=na>NA</span></td><td><span class=na>NA</span></td><td><span class=na>NA</span></td><td><span class=na>NA</span></td><td><span class=na>NA</span></td><td><span class=na>NA</span></td><td><span class=na>NA</span></td><td><span class=na>NA</span></td><td><span class=na>NA</span></td><td><span class=na>NA</span></td></tr>\n",
              "    <tr><td class='row_index'>1</td><td>real_in=9</td><td><span class=na>NA</span></td><td><span class=na>NA</span></td><td><span class=na>NA</span></td><td><span class=na>NA</span></td><td><span class=na>NA</span></td><td><span class=na>NA</span></td><td><span class=na>NA</span></td><td><span class=na>NA</span></td><td><span class=na>NA</span></td><td><span class=na>NA</span></td></tr>\n",
              "    <tr><td class='row_index'>2</td><td>bool_out=2</td><td><span class=na>NA</span></td><td><span class=na>NA</span></td><td><span class=na>NA</span></td><td><span class=na>NA</span></td><td><span class=na>NA</span></td><td><span class=na>NA</span></td><td><span class=na>NA</span></td><td><span class=na>NA</span></td><td><span class=na>NA</span></td><td><span class=na>NA</span></td></tr>\n",
              "    <tr><td class='row_index'>3</td><td>real_out=0</td><td><span class=na>NA</span></td><td><span class=na>NA</span></td><td><span class=na>NA</span></td><td><span class=na>NA</span></td><td><span class=na>NA</span></td><td><span class=na>NA</span></td><td><span class=na>NA</span></td><td><span class=na>NA</span></td><td><span class=na>NA</span></td><td><span class=na>NA</span></td></tr>\n",
              "    <tr><td class='row_index'>4</td><td>training_examples=350</td><td><span class=na>NA</span></td><td><span class=na>NA</span></td><td><span class=na>NA</span></td><td><span class=na>NA</span></td><td><span class=na>NA</span></td><td><span class=na>NA</span></td><td><span class=na>NA</span></td><td><span class=na>NA</span></td><td><span class=na>NA</span></td><td><span class=na>NA</span></td></tr>\n",
              "    <tr><td class='row_index'>5</td><td>validation_examples=175</td><td><span class=na>NA</span></td><td><span class=na>NA</span></td><td><span class=na>NA</span></td><td><span class=na>NA</span></td><td><span class=na>NA</span></td><td><span class=na>NA</span></td><td><span class=na>NA</span></td><td><span class=na>NA</span></td><td><span class=na>NA</span></td><td><span class=na>NA</span></td></tr>\n",
              "    <tr><td class='row_index'>6</td><td>test_examples=174</td><td><span class=na>NA</span></td><td><span class=na>NA</span></td><td><span class=na>NA</span></td><td><span class=na>NA</span></td><td><span class=na>NA</span></td><td><span class=na>NA</span></td><td><span class=na>NA</span></td><td><span class=na>NA</span></td><td><span class=na>NA</span></td><td><span class=na>NA</span></td></tr>\n",
              "    <tr><td class='row_index'>7</td><td>0.2</td><td>0.1</td><td>0.1</td><td>0.1</td><td>0.2</td><td>0.1</td><td>0.2</td><td>0.1</td><td>0.1</td><td>1</td><td>0</td></tr>\n",
              "    <tr><td class='row_index'>8</td><td>0.2</td><td>0.1</td><td>0.1</td><td>0.1</td><td>0.2</td><td>0.1</td><td>0.3</td><td>0.1</td><td>0.1</td><td>1</td><td>0</td></tr>\n",
              "    <tr><td class='row_index'>9</td><td>0.5</td><td>0.1</td><td>0.1</td><td>0.1</td><td>0.2</td><td>0.1</td><td>0.2</td><td>0.1</td><td>0.1</td><td>1</td><td>0</td></tr>\n",
              "    <tr><td class='row_index'>10</td><td>0.5</td><td>0.4</td><td>0.6</td><td>0.8</td><td>0.4</td><td>0.1</td><td>0.8</td><td>1</td><td>0.1</td><td>0</td><td>1</td></tr>\n",
              "    <tr><td class='row_index'>11</td><td>0.5</td><td>0.3</td><td>0.3</td><td>0.1</td><td>0.2</td><td>0.1</td><td>0.2</td><td>0.1</td><td>0.1</td><td>1</td><td>0</td></tr>\n",
              "    <tr><td class='row_index'>12</td><td>0.2</td><td>0.3</td><td>0.1</td><td>0.1</td><td>0.3</td><td>0.1</td><td>0.1</td><td>0.1</td><td>0.1</td><td>1</td><td>0</td></tr>\n",
              "    <tr><td class='row_index'>13</td><td>0.3</td><td>0.5</td><td>0.7</td><td>0.8</td><td>0.8</td><td>0.9</td><td>0.7</td><td>1</td><td>0.7</td><td>0</td><td>1</td></tr>\n",
              "    <tr><td class='row_index'>14</td><td>1</td><td>0.5</td><td>0.6</td><td>1</td><td>0.6</td><td>1</td><td>0.7</td><td>0.7</td><td>1</td><td>0</td><td>1</td></tr>\n",
              "    <tr><td class='row_index'>&#x22EE;</td><td class='hellipsis'>&#x22EE;</td><td class='hellipsis'>&#x22EE;</td><td class='hellipsis'>&#x22EE;</td><td class='hellipsis'>&#x22EE;</td><td class='hellipsis'>&#x22EE;</td><td class='hellipsis'>&#x22EE;</td><td class='hellipsis'>&#x22EE;</td><td class='hellipsis'>&#x22EE;</td><td class='hellipsis'>&#x22EE;</td><td class='hellipsis'>&#x22EE;</td><td class='hellipsis'>&#x22EE;</td></tr>\n",
              "    <tr><td class='row_index'>701</td><td>0.5</td><td>0.1</td><td>0.2</td><td>0.1</td><td>0.2</td><td>0.1</td><td>0.1</td><td>0.1</td><td>0.1</td><td>1</td><td>0</td></tr>\n",
              "    <tr><td class='row_index'>702</td><td>0.7</td><td>0.5</td><td>0.6</td><td>1</td><td>0.5</td><td>1</td><td>0.7</td><td>0.9</td><td>0.4</td><td>0</td><td>1</td></tr>\n",
              "    <tr><td class='row_index'>703</td><td>0.6</td><td>1</td><td>1</td><td>1</td><td>0.8</td><td>1</td><td>0.7</td><td>1</td><td>0.7</td><td>0</td><td>1</td></tr>\n",
              "    <tr><td class='row_index'>704</td><td>0.5</td><td>0.7</td><td>1</td><td>1</td><td>0.5</td><td>1</td><td>1</td><td>1</td><td>0.1</td><td>0</td><td>1</td></tr>\n",
              "    <tr><td class='row_index'>705</td><td>0.1</td><td>0.1</td><td>0.1</td><td>0.1</td><td>0.2</td><td>0.1</td><td>0.2</td><td>0.1</td><td>0.1</td><td>1</td><td>0</td></tr>\n",
              "  </tbody>\n",
              "  </table>\n",
              "  <div class='footer'>\n",
              "    <div class='frame_dimensions'>706 rows &times; 11 columns</div>\n",
              "  </div>\n",
              "</div>\n"
            ],
            "text/plain": [
              ""
            ]
          },
          "metadata": {
            "tags": []
          },
          "execution_count": 4
        }
      ]
    },
    {
      "cell_type": "markdown",
      "metadata": {
        "id": "eiXAHuhhpo_C"
      },
      "source": [
        "Очистим набор данных от лишних столбцов."
      ]
    },
    {
      "cell_type": "code",
      "metadata": {
        "colab": {
          "base_uri": "https://localhost:8080/",
          "height": 925
        },
        "id": "zRhY721si0sL",
        "outputId": "36d477fe-ca23-4bc1-b7cd-7e2a1119d9af"
      },
      "source": [
        "del DT[0:7,:]\n",
        "DT"
      ],
      "execution_count": 5,
      "outputs": [
        {
          "output_type": "stream",
          "text": [
            "    | C0    C1   C2   C3   C4   C5   C6   C7   C8  C9  C10\n",
            "--- + ---  ---  ---  ---  ---  ---  ---  ---  ---  --  ---\n",
            "  0 | 0.2  0.1  0.1  0.1  0.2  0.1  0.2  0.1  0.1   1    0\n",
            "  1 | 0.2  0.1  0.1  0.1  0.2  0.1  0.3  0.1  0.1   1    0\n",
            "  2 | 0.5  0.1  0.1  0.1  0.2  0.1  0.2  0.1  0.1   1    0\n",
            "  3 | 0.5  0.4  0.6  0.8  0.4  0.1  0.8  1    0.1   0    1\n",
            "  4 | 0.5  0.3  0.3  0.1  0.2  0.1  0.2  0.1  0.1   1    0\n",
            "  5 | 0.2  0.3  0.1  0.1  0.3  0.1  0.1  0.1  0.1   1    0\n",
            "  6 | 0.3  0.5  0.7  0.8  0.8  0.9  0.7  1    0.7   0    1\n",
            "  7 | 1    0.5  0.6  1    0.6  1    0.7  0.7  1     0    1\n",
            "  8 | 1    0.9  0.8  0.7  0.6  0.4  0.7  1    0.3   0    1\n",
            "  9 | 0.4  0.1  0.1  0.1  0.2  0.1  0.3  0.1  0.1   1    0\n",
            " 10 | 0.5  0.1  0.1  0.1  0.2  0.1  0.3  0.1  0.1   1    0\n",
            " 11 | 0.8  1    1    0.1  0.3  0.6  0.3  0.9  0.1   0    1\n",
            " 12 | 0.1  0.1  0.3  0.1  0.2  0.1  0.2  0.1  0.1   1    0\n",
            " 13 | 0.1  0.1  0.1  0.2  0.1  0.1  0.1  0.1  0.1   1    0\n",
            " 14 | 0.3  0.4  0.5  0.2  0.6  0.8  0.4  0.1  0.1   0    1\n",
            "  … | …      …    …    …    …    …    …    …    …   …    …\n",
            "694 | 0.5  0.1  0.2  0.1  0.2  0.1  0.1  0.1  0.1   1    0\n",
            "695 | 0.7  0.5  0.6  1    0.5  1    0.7  0.9  0.4   0    1\n",
            "696 | 0.6  1    1    1    0.8  1    0.7  1    0.7   0    1\n",
            "697 | 0.5  0.7  1    1    0.5  1    1    1    0.1   0    1\n",
            "698 | 0.1  0.1  0.1  0.1  0.2  0.1  0.2  0.1  0.1   1    0\n",
            "\n",
            "[699 rows x 11 columns]\n"
          ],
          "name": "stdout"
        },
        {
          "output_type": "execute_result",
          "data": {
            "text/html": [
              "<div class='datatable'>\n",
              "  <table class='frame'>\n",
              "  <thead>\n",
              "    <tr class='colnames'><td class='row_index'></td><th>C0</th><th>C1</th><th>C2</th><th>C3</th><th>C4</th><th>C5</th><th>C6</th><th>C7</th><th>C8</th><th>C9</th><th>C10</th></tr>\n",
              "    <tr class='coltypes'><td class='row_index'></td><td class='str' title='str32'>&#x25AA;&#x25AA;&#x25AA;&#x25AA;</td><td class='float' title='float64'>&#x25AA;&#x25AA;&#x25AA;&#x25AA;&#x25AA;&#x25AA;&#x25AA;&#x25AA;</td><td class='float' title='float64'>&#x25AA;&#x25AA;&#x25AA;&#x25AA;&#x25AA;&#x25AA;&#x25AA;&#x25AA;</td><td class='float' title='float64'>&#x25AA;&#x25AA;&#x25AA;&#x25AA;&#x25AA;&#x25AA;&#x25AA;&#x25AA;</td><td class='float' title='float64'>&#x25AA;&#x25AA;&#x25AA;&#x25AA;&#x25AA;&#x25AA;&#x25AA;&#x25AA;</td><td class='float' title='float64'>&#x25AA;&#x25AA;&#x25AA;&#x25AA;&#x25AA;&#x25AA;&#x25AA;&#x25AA;</td><td class='float' title='float64'>&#x25AA;&#x25AA;&#x25AA;&#x25AA;&#x25AA;&#x25AA;&#x25AA;&#x25AA;</td><td class='float' title='float64'>&#x25AA;&#x25AA;&#x25AA;&#x25AA;&#x25AA;&#x25AA;&#x25AA;&#x25AA;</td><td class='float' title='float64'>&#x25AA;&#x25AA;&#x25AA;&#x25AA;&#x25AA;&#x25AA;&#x25AA;&#x25AA;</td><td class='bool' title='bool8'>&#x25AA;</td><td class='bool' title='bool8'>&#x25AA;</td></tr>\n",
              "  </thead>\n",
              "  <tbody>\n",
              "    <tr><td class='row_index'>0</td><td>0.2</td><td>0.1</td><td>0.1</td><td>0.1</td><td>0.2</td><td>0.1</td><td>0.2</td><td>0.1</td><td>0.1</td><td>1</td><td>0</td></tr>\n",
              "    <tr><td class='row_index'>1</td><td>0.2</td><td>0.1</td><td>0.1</td><td>0.1</td><td>0.2</td><td>0.1</td><td>0.3</td><td>0.1</td><td>0.1</td><td>1</td><td>0</td></tr>\n",
              "    <tr><td class='row_index'>2</td><td>0.5</td><td>0.1</td><td>0.1</td><td>0.1</td><td>0.2</td><td>0.1</td><td>0.2</td><td>0.1</td><td>0.1</td><td>1</td><td>0</td></tr>\n",
              "    <tr><td class='row_index'>3</td><td>0.5</td><td>0.4</td><td>0.6</td><td>0.8</td><td>0.4</td><td>0.1</td><td>0.8</td><td>1</td><td>0.1</td><td>0</td><td>1</td></tr>\n",
              "    <tr><td class='row_index'>4</td><td>0.5</td><td>0.3</td><td>0.3</td><td>0.1</td><td>0.2</td><td>0.1</td><td>0.2</td><td>0.1</td><td>0.1</td><td>1</td><td>0</td></tr>\n",
              "    <tr><td class='row_index'>5</td><td>0.2</td><td>0.3</td><td>0.1</td><td>0.1</td><td>0.3</td><td>0.1</td><td>0.1</td><td>0.1</td><td>0.1</td><td>1</td><td>0</td></tr>\n",
              "    <tr><td class='row_index'>6</td><td>0.3</td><td>0.5</td><td>0.7</td><td>0.8</td><td>0.8</td><td>0.9</td><td>0.7</td><td>1</td><td>0.7</td><td>0</td><td>1</td></tr>\n",
              "    <tr><td class='row_index'>7</td><td>1</td><td>0.5</td><td>0.6</td><td>1</td><td>0.6</td><td>1</td><td>0.7</td><td>0.7</td><td>1</td><td>0</td><td>1</td></tr>\n",
              "    <tr><td class='row_index'>8</td><td>1</td><td>0.9</td><td>0.8</td><td>0.7</td><td>0.6</td><td>0.4</td><td>0.7</td><td>1</td><td>0.3</td><td>0</td><td>1</td></tr>\n",
              "    <tr><td class='row_index'>9</td><td>0.4</td><td>0.1</td><td>0.1</td><td>0.1</td><td>0.2</td><td>0.1</td><td>0.3</td><td>0.1</td><td>0.1</td><td>1</td><td>0</td></tr>\n",
              "    <tr><td class='row_index'>10</td><td>0.5</td><td>0.1</td><td>0.1</td><td>0.1</td><td>0.2</td><td>0.1</td><td>0.3</td><td>0.1</td><td>0.1</td><td>1</td><td>0</td></tr>\n",
              "    <tr><td class='row_index'>11</td><td>0.8</td><td>1</td><td>1</td><td>0.1</td><td>0.3</td><td>0.6</td><td>0.3</td><td>0.9</td><td>0.1</td><td>0</td><td>1</td></tr>\n",
              "    <tr><td class='row_index'>12</td><td>0.1</td><td>0.1</td><td>0.3</td><td>0.1</td><td>0.2</td><td>0.1</td><td>0.2</td><td>0.1</td><td>0.1</td><td>1</td><td>0</td></tr>\n",
              "    <tr><td class='row_index'>13</td><td>0.1</td><td>0.1</td><td>0.1</td><td>0.2</td><td>0.1</td><td>0.1</td><td>0.1</td><td>0.1</td><td>0.1</td><td>1</td><td>0</td></tr>\n",
              "    <tr><td class='row_index'>14</td><td>0.3</td><td>0.4</td><td>0.5</td><td>0.2</td><td>0.6</td><td>0.8</td><td>0.4</td><td>0.1</td><td>0.1</td><td>0</td><td>1</td></tr>\n",
              "    <tr><td class='row_index'>&#x22EE;</td><td class='hellipsis'>&#x22EE;</td><td class='hellipsis'>&#x22EE;</td><td class='hellipsis'>&#x22EE;</td><td class='hellipsis'>&#x22EE;</td><td class='hellipsis'>&#x22EE;</td><td class='hellipsis'>&#x22EE;</td><td class='hellipsis'>&#x22EE;</td><td class='hellipsis'>&#x22EE;</td><td class='hellipsis'>&#x22EE;</td><td class='hellipsis'>&#x22EE;</td><td class='hellipsis'>&#x22EE;</td></tr>\n",
              "    <tr><td class='row_index'>694</td><td>0.5</td><td>0.1</td><td>0.2</td><td>0.1</td><td>0.2</td><td>0.1</td><td>0.1</td><td>0.1</td><td>0.1</td><td>1</td><td>0</td></tr>\n",
              "    <tr><td class='row_index'>695</td><td>0.7</td><td>0.5</td><td>0.6</td><td>1</td><td>0.5</td><td>1</td><td>0.7</td><td>0.9</td><td>0.4</td><td>0</td><td>1</td></tr>\n",
              "    <tr><td class='row_index'>696</td><td>0.6</td><td>1</td><td>1</td><td>1</td><td>0.8</td><td>1</td><td>0.7</td><td>1</td><td>0.7</td><td>0</td><td>1</td></tr>\n",
              "    <tr><td class='row_index'>697</td><td>0.5</td><td>0.7</td><td>1</td><td>1</td><td>0.5</td><td>1</td><td>1</td><td>1</td><td>0.1</td><td>0</td><td>1</td></tr>\n",
              "    <tr><td class='row_index'>698</td><td>0.1</td><td>0.1</td><td>0.1</td><td>0.1</td><td>0.2</td><td>0.1</td><td>0.2</td><td>0.1</td><td>0.1</td><td>1</td><td>0</td></tr>\n",
              "  </tbody>\n",
              "  </table>\n",
              "  <div class='footer'>\n",
              "    <div class='frame_dimensions'>699 rows &times; 11 columns</div>\n",
              "  </div>\n",
              "</div>\n"
            ],
            "text/plain": [
              ""
            ]
          },
          "metadata": {
            "tags": []
          },
          "execution_count": 5
        }
      ]
    },
    {
      "cell_type": "markdown",
      "metadata": {
        "id": "Utr47zvyp3co"
      },
      "source": [
        "Представим набор данных в виде DataFrame Pandas."
      ]
    },
    {
      "cell_type": "code",
      "metadata": {
        "id": "eUxUUqVfleOm",
        "colab": {
          "base_uri": "https://localhost:8080/",
          "height": 417
        },
        "outputId": "2edcf59e-3a2e-4272-cd9e-81ba2fa7a642"
      },
      "source": [
        "import pandas as pd\n",
        "df = pd.DataFrame(DT.to_pandas())\n",
        "df"
      ],
      "execution_count": 6,
      "outputs": [
        {
          "output_type": "execute_result",
          "data": {
            "text/html": [
              "<div>\n",
              "<style scoped>\n",
              "    .dataframe tbody tr th:only-of-type {\n",
              "        vertical-align: middle;\n",
              "    }\n",
              "\n",
              "    .dataframe tbody tr th {\n",
              "        vertical-align: top;\n",
              "    }\n",
              "\n",
              "    .dataframe thead th {\n",
              "        text-align: right;\n",
              "    }\n",
              "</style>\n",
              "<table border=\"1\" class=\"dataframe\">\n",
              "  <thead>\n",
              "    <tr style=\"text-align: right;\">\n",
              "      <th></th>\n",
              "      <th>C0</th>\n",
              "      <th>C1</th>\n",
              "      <th>C2</th>\n",
              "      <th>C3</th>\n",
              "      <th>C4</th>\n",
              "      <th>C5</th>\n",
              "      <th>C6</th>\n",
              "      <th>C7</th>\n",
              "      <th>C8</th>\n",
              "      <th>C9</th>\n",
              "      <th>C10</th>\n",
              "    </tr>\n",
              "  </thead>\n",
              "  <tbody>\n",
              "    <tr>\n",
              "      <th>0</th>\n",
              "      <td>0.2</td>\n",
              "      <td>0.1</td>\n",
              "      <td>0.1</td>\n",
              "      <td>0.1</td>\n",
              "      <td>0.2</td>\n",
              "      <td>0.1</td>\n",
              "      <td>0.2</td>\n",
              "      <td>0.1</td>\n",
              "      <td>0.1</td>\n",
              "      <td>True</td>\n",
              "      <td>False</td>\n",
              "    </tr>\n",
              "    <tr>\n",
              "      <th>1</th>\n",
              "      <td>0.2</td>\n",
              "      <td>0.1</td>\n",
              "      <td>0.1</td>\n",
              "      <td>0.1</td>\n",
              "      <td>0.2</td>\n",
              "      <td>0.1</td>\n",
              "      <td>0.3</td>\n",
              "      <td>0.1</td>\n",
              "      <td>0.1</td>\n",
              "      <td>True</td>\n",
              "      <td>False</td>\n",
              "    </tr>\n",
              "    <tr>\n",
              "      <th>2</th>\n",
              "      <td>0.5</td>\n",
              "      <td>0.1</td>\n",
              "      <td>0.1</td>\n",
              "      <td>0.1</td>\n",
              "      <td>0.2</td>\n",
              "      <td>0.1</td>\n",
              "      <td>0.2</td>\n",
              "      <td>0.1</td>\n",
              "      <td>0.1</td>\n",
              "      <td>True</td>\n",
              "      <td>False</td>\n",
              "    </tr>\n",
              "    <tr>\n",
              "      <th>3</th>\n",
              "      <td>0.5</td>\n",
              "      <td>0.4</td>\n",
              "      <td>0.6</td>\n",
              "      <td>0.8</td>\n",
              "      <td>0.4</td>\n",
              "      <td>0.1</td>\n",
              "      <td>0.8</td>\n",
              "      <td>1.0</td>\n",
              "      <td>0.1</td>\n",
              "      <td>False</td>\n",
              "      <td>True</td>\n",
              "    </tr>\n",
              "    <tr>\n",
              "      <th>4</th>\n",
              "      <td>0.5</td>\n",
              "      <td>0.3</td>\n",
              "      <td>0.3</td>\n",
              "      <td>0.1</td>\n",
              "      <td>0.2</td>\n",
              "      <td>0.1</td>\n",
              "      <td>0.2</td>\n",
              "      <td>0.1</td>\n",
              "      <td>0.1</td>\n",
              "      <td>True</td>\n",
              "      <td>False</td>\n",
              "    </tr>\n",
              "    <tr>\n",
              "      <th>...</th>\n",
              "      <td>...</td>\n",
              "      <td>...</td>\n",
              "      <td>...</td>\n",
              "      <td>...</td>\n",
              "      <td>...</td>\n",
              "      <td>...</td>\n",
              "      <td>...</td>\n",
              "      <td>...</td>\n",
              "      <td>...</td>\n",
              "      <td>...</td>\n",
              "      <td>...</td>\n",
              "    </tr>\n",
              "    <tr>\n",
              "      <th>694</th>\n",
              "      <td>0.5</td>\n",
              "      <td>0.1</td>\n",
              "      <td>0.2</td>\n",
              "      <td>0.1</td>\n",
              "      <td>0.2</td>\n",
              "      <td>0.1</td>\n",
              "      <td>0.1</td>\n",
              "      <td>0.1</td>\n",
              "      <td>0.1</td>\n",
              "      <td>True</td>\n",
              "      <td>False</td>\n",
              "    </tr>\n",
              "    <tr>\n",
              "      <th>695</th>\n",
              "      <td>0.7</td>\n",
              "      <td>0.5</td>\n",
              "      <td>0.6</td>\n",
              "      <td>1.0</td>\n",
              "      <td>0.5</td>\n",
              "      <td>1.0</td>\n",
              "      <td>0.7</td>\n",
              "      <td>0.9</td>\n",
              "      <td>0.4</td>\n",
              "      <td>False</td>\n",
              "      <td>True</td>\n",
              "    </tr>\n",
              "    <tr>\n",
              "      <th>696</th>\n",
              "      <td>0.6</td>\n",
              "      <td>1.0</td>\n",
              "      <td>1.0</td>\n",
              "      <td>1.0</td>\n",
              "      <td>0.8</td>\n",
              "      <td>1.0</td>\n",
              "      <td>0.7</td>\n",
              "      <td>1.0</td>\n",
              "      <td>0.7</td>\n",
              "      <td>False</td>\n",
              "      <td>True</td>\n",
              "    </tr>\n",
              "    <tr>\n",
              "      <th>697</th>\n",
              "      <td>0.5</td>\n",
              "      <td>0.7</td>\n",
              "      <td>1.0</td>\n",
              "      <td>1.0</td>\n",
              "      <td>0.5</td>\n",
              "      <td>1.0</td>\n",
              "      <td>1.0</td>\n",
              "      <td>1.0</td>\n",
              "      <td>0.1</td>\n",
              "      <td>False</td>\n",
              "      <td>True</td>\n",
              "    </tr>\n",
              "    <tr>\n",
              "      <th>698</th>\n",
              "      <td>0.1</td>\n",
              "      <td>0.1</td>\n",
              "      <td>0.1</td>\n",
              "      <td>0.1</td>\n",
              "      <td>0.2</td>\n",
              "      <td>0.1</td>\n",
              "      <td>0.2</td>\n",
              "      <td>0.1</td>\n",
              "      <td>0.1</td>\n",
              "      <td>True</td>\n",
              "      <td>False</td>\n",
              "    </tr>\n",
              "  </tbody>\n",
              "</table>\n",
              "<p>699 rows × 11 columns</p>\n",
              "</div>"
            ],
            "text/plain": [
              "      C0   C1   C2   C3   C4   C5   C6   C7   C8     C9    C10\n",
              "0    0.2  0.1  0.1  0.1  0.2  0.1  0.2  0.1  0.1   True  False\n",
              "1    0.2  0.1  0.1  0.1  0.2  0.1  0.3  0.1  0.1   True  False\n",
              "2    0.5  0.1  0.1  0.1  0.2  0.1  0.2  0.1  0.1   True  False\n",
              "3    0.5  0.4  0.6  0.8  0.4  0.1  0.8  1.0  0.1  False   True\n",
              "4    0.5  0.3  0.3  0.1  0.2  0.1  0.2  0.1  0.1   True  False\n",
              "..   ...  ...  ...  ...  ...  ...  ...  ...  ...    ...    ...\n",
              "694  0.5  0.1  0.2  0.1  0.2  0.1  0.1  0.1  0.1   True  False\n",
              "695  0.7  0.5  0.6  1.0  0.5  1.0  0.7  0.9  0.4  False   True\n",
              "696  0.6  1.0  1.0  1.0  0.8  1.0  0.7  1.0  0.7  False   True\n",
              "697  0.5  0.7  1.0  1.0  0.5  1.0  1.0  1.0  0.1  False   True\n",
              "698  0.1  0.1  0.1  0.1  0.2  0.1  0.2  0.1  0.1   True  False\n",
              "\n",
              "[699 rows x 11 columns]"
            ]
          },
          "metadata": {
            "tags": []
          },
          "execution_count": 6
        }
      ]
    },
    {
      "cell_type": "markdown",
      "metadata": {
        "id": "6r5WwTq9kkJx"
      },
      "source": [
        "Разобъём выборку на тестовую и тренировочную."
      ]
    },
    {
      "cell_type": "code",
      "metadata": {
        "colab": {
          "base_uri": "https://localhost:8080/",
          "height": 417
        },
        "id": "UVq9oc63kx0v",
        "outputId": "79fbd145-f801-4868-fe03-8d97c9a57e45"
      },
      "source": [
        "y = df[['C9','C10']]\n",
        "y"
      ],
      "execution_count": 7,
      "outputs": [
        {
          "output_type": "execute_result",
          "data": {
            "text/html": [
              "<div>\n",
              "<style scoped>\n",
              "    .dataframe tbody tr th:only-of-type {\n",
              "        vertical-align: middle;\n",
              "    }\n",
              "\n",
              "    .dataframe tbody tr th {\n",
              "        vertical-align: top;\n",
              "    }\n",
              "\n",
              "    .dataframe thead th {\n",
              "        text-align: right;\n",
              "    }\n",
              "</style>\n",
              "<table border=\"1\" class=\"dataframe\">\n",
              "  <thead>\n",
              "    <tr style=\"text-align: right;\">\n",
              "      <th></th>\n",
              "      <th>C9</th>\n",
              "      <th>C10</th>\n",
              "    </tr>\n",
              "  </thead>\n",
              "  <tbody>\n",
              "    <tr>\n",
              "      <th>0</th>\n",
              "      <td>True</td>\n",
              "      <td>False</td>\n",
              "    </tr>\n",
              "    <tr>\n",
              "      <th>1</th>\n",
              "      <td>True</td>\n",
              "      <td>False</td>\n",
              "    </tr>\n",
              "    <tr>\n",
              "      <th>2</th>\n",
              "      <td>True</td>\n",
              "      <td>False</td>\n",
              "    </tr>\n",
              "    <tr>\n",
              "      <th>3</th>\n",
              "      <td>False</td>\n",
              "      <td>True</td>\n",
              "    </tr>\n",
              "    <tr>\n",
              "      <th>4</th>\n",
              "      <td>True</td>\n",
              "      <td>False</td>\n",
              "    </tr>\n",
              "    <tr>\n",
              "      <th>...</th>\n",
              "      <td>...</td>\n",
              "      <td>...</td>\n",
              "    </tr>\n",
              "    <tr>\n",
              "      <th>694</th>\n",
              "      <td>True</td>\n",
              "      <td>False</td>\n",
              "    </tr>\n",
              "    <tr>\n",
              "      <th>695</th>\n",
              "      <td>False</td>\n",
              "      <td>True</td>\n",
              "    </tr>\n",
              "    <tr>\n",
              "      <th>696</th>\n",
              "      <td>False</td>\n",
              "      <td>True</td>\n",
              "    </tr>\n",
              "    <tr>\n",
              "      <th>697</th>\n",
              "      <td>False</td>\n",
              "      <td>True</td>\n",
              "    </tr>\n",
              "    <tr>\n",
              "      <th>698</th>\n",
              "      <td>True</td>\n",
              "      <td>False</td>\n",
              "    </tr>\n",
              "  </tbody>\n",
              "</table>\n",
              "<p>699 rows × 2 columns</p>\n",
              "</div>"
            ],
            "text/plain": [
              "        C9    C10\n",
              "0     True  False\n",
              "1     True  False\n",
              "2     True  False\n",
              "3    False   True\n",
              "4     True  False\n",
              "..     ...    ...\n",
              "694   True  False\n",
              "695  False   True\n",
              "696  False   True\n",
              "697  False   True\n",
              "698   True  False\n",
              "\n",
              "[699 rows x 2 columns]"
            ]
          },
          "metadata": {
            "tags": []
          },
          "execution_count": 7
        }
      ]
    },
    {
      "cell_type": "code",
      "metadata": {
        "colab": {
          "base_uri": "https://localhost:8080/",
          "height": 417
        },
        "id": "yLgBiNLMnlyt",
        "outputId": "283dcccf-ba7f-4d5d-a70f-9afe816b3419"
      },
      "source": [
        "X = df.iloc[:, 0:9].copy()\n",
        "X"
      ],
      "execution_count": 8,
      "outputs": [
        {
          "output_type": "execute_result",
          "data": {
            "text/html": [
              "<div>\n",
              "<style scoped>\n",
              "    .dataframe tbody tr th:only-of-type {\n",
              "        vertical-align: middle;\n",
              "    }\n",
              "\n",
              "    .dataframe tbody tr th {\n",
              "        vertical-align: top;\n",
              "    }\n",
              "\n",
              "    .dataframe thead th {\n",
              "        text-align: right;\n",
              "    }\n",
              "</style>\n",
              "<table border=\"1\" class=\"dataframe\">\n",
              "  <thead>\n",
              "    <tr style=\"text-align: right;\">\n",
              "      <th></th>\n",
              "      <th>C0</th>\n",
              "      <th>C1</th>\n",
              "      <th>C2</th>\n",
              "      <th>C3</th>\n",
              "      <th>C4</th>\n",
              "      <th>C5</th>\n",
              "      <th>C6</th>\n",
              "      <th>C7</th>\n",
              "      <th>C8</th>\n",
              "    </tr>\n",
              "  </thead>\n",
              "  <tbody>\n",
              "    <tr>\n",
              "      <th>0</th>\n",
              "      <td>0.2</td>\n",
              "      <td>0.1</td>\n",
              "      <td>0.1</td>\n",
              "      <td>0.1</td>\n",
              "      <td>0.2</td>\n",
              "      <td>0.1</td>\n",
              "      <td>0.2</td>\n",
              "      <td>0.1</td>\n",
              "      <td>0.1</td>\n",
              "    </tr>\n",
              "    <tr>\n",
              "      <th>1</th>\n",
              "      <td>0.2</td>\n",
              "      <td>0.1</td>\n",
              "      <td>0.1</td>\n",
              "      <td>0.1</td>\n",
              "      <td>0.2</td>\n",
              "      <td>0.1</td>\n",
              "      <td>0.3</td>\n",
              "      <td>0.1</td>\n",
              "      <td>0.1</td>\n",
              "    </tr>\n",
              "    <tr>\n",
              "      <th>2</th>\n",
              "      <td>0.5</td>\n",
              "      <td>0.1</td>\n",
              "      <td>0.1</td>\n",
              "      <td>0.1</td>\n",
              "      <td>0.2</td>\n",
              "      <td>0.1</td>\n",
              "      <td>0.2</td>\n",
              "      <td>0.1</td>\n",
              "      <td>0.1</td>\n",
              "    </tr>\n",
              "    <tr>\n",
              "      <th>3</th>\n",
              "      <td>0.5</td>\n",
              "      <td>0.4</td>\n",
              "      <td>0.6</td>\n",
              "      <td>0.8</td>\n",
              "      <td>0.4</td>\n",
              "      <td>0.1</td>\n",
              "      <td>0.8</td>\n",
              "      <td>1.0</td>\n",
              "      <td>0.1</td>\n",
              "    </tr>\n",
              "    <tr>\n",
              "      <th>4</th>\n",
              "      <td>0.5</td>\n",
              "      <td>0.3</td>\n",
              "      <td>0.3</td>\n",
              "      <td>0.1</td>\n",
              "      <td>0.2</td>\n",
              "      <td>0.1</td>\n",
              "      <td>0.2</td>\n",
              "      <td>0.1</td>\n",
              "      <td>0.1</td>\n",
              "    </tr>\n",
              "    <tr>\n",
              "      <th>...</th>\n",
              "      <td>...</td>\n",
              "      <td>...</td>\n",
              "      <td>...</td>\n",
              "      <td>...</td>\n",
              "      <td>...</td>\n",
              "      <td>...</td>\n",
              "      <td>...</td>\n",
              "      <td>...</td>\n",
              "      <td>...</td>\n",
              "    </tr>\n",
              "    <tr>\n",
              "      <th>694</th>\n",
              "      <td>0.5</td>\n",
              "      <td>0.1</td>\n",
              "      <td>0.2</td>\n",
              "      <td>0.1</td>\n",
              "      <td>0.2</td>\n",
              "      <td>0.1</td>\n",
              "      <td>0.1</td>\n",
              "      <td>0.1</td>\n",
              "      <td>0.1</td>\n",
              "    </tr>\n",
              "    <tr>\n",
              "      <th>695</th>\n",
              "      <td>0.7</td>\n",
              "      <td>0.5</td>\n",
              "      <td>0.6</td>\n",
              "      <td>1.0</td>\n",
              "      <td>0.5</td>\n",
              "      <td>1.0</td>\n",
              "      <td>0.7</td>\n",
              "      <td>0.9</td>\n",
              "      <td>0.4</td>\n",
              "    </tr>\n",
              "    <tr>\n",
              "      <th>696</th>\n",
              "      <td>0.6</td>\n",
              "      <td>1.0</td>\n",
              "      <td>1.0</td>\n",
              "      <td>1.0</td>\n",
              "      <td>0.8</td>\n",
              "      <td>1.0</td>\n",
              "      <td>0.7</td>\n",
              "      <td>1.0</td>\n",
              "      <td>0.7</td>\n",
              "    </tr>\n",
              "    <tr>\n",
              "      <th>697</th>\n",
              "      <td>0.5</td>\n",
              "      <td>0.7</td>\n",
              "      <td>1.0</td>\n",
              "      <td>1.0</td>\n",
              "      <td>0.5</td>\n",
              "      <td>1.0</td>\n",
              "      <td>1.0</td>\n",
              "      <td>1.0</td>\n",
              "      <td>0.1</td>\n",
              "    </tr>\n",
              "    <tr>\n",
              "      <th>698</th>\n",
              "      <td>0.1</td>\n",
              "      <td>0.1</td>\n",
              "      <td>0.1</td>\n",
              "      <td>0.1</td>\n",
              "      <td>0.2</td>\n",
              "      <td>0.1</td>\n",
              "      <td>0.2</td>\n",
              "      <td>0.1</td>\n",
              "      <td>0.1</td>\n",
              "    </tr>\n",
              "  </tbody>\n",
              "</table>\n",
              "<p>699 rows × 9 columns</p>\n",
              "</div>"
            ],
            "text/plain": [
              "      C0   C1   C2   C3   C4   C5   C6   C7   C8\n",
              "0    0.2  0.1  0.1  0.1  0.2  0.1  0.2  0.1  0.1\n",
              "1    0.2  0.1  0.1  0.1  0.2  0.1  0.3  0.1  0.1\n",
              "2    0.5  0.1  0.1  0.1  0.2  0.1  0.2  0.1  0.1\n",
              "3    0.5  0.4  0.6  0.8  0.4  0.1  0.8  1.0  0.1\n",
              "4    0.5  0.3  0.3  0.1  0.2  0.1  0.2  0.1  0.1\n",
              "..   ...  ...  ...  ...  ...  ...  ...  ...  ...\n",
              "694  0.5  0.1  0.2  0.1  0.2  0.1  0.1  0.1  0.1\n",
              "695  0.7  0.5  0.6  1.0  0.5  1.0  0.7  0.9  0.4\n",
              "696  0.6  1.0  1.0  1.0  0.8  1.0  0.7  1.0  0.7\n",
              "697  0.5  0.7  1.0  1.0  0.5  1.0  1.0  1.0  0.1\n",
              "698  0.1  0.1  0.1  0.1  0.2  0.1  0.2  0.1  0.1\n",
              "\n",
              "[699 rows x 9 columns]"
            ]
          },
          "metadata": {
            "tags": []
          },
          "execution_count": 8
        }
      ]
    },
    {
      "cell_type": "code",
      "metadata": {
        "id": "wKwQoHqEldfl"
      },
      "source": [
        "from sklearn.model_selection import train_test_split\n",
        "\n",
        "y_train,y_test,X_train,X_test = train_test_split(y,X,train_size = 0.8, random_state = 3)"
      ],
      "execution_count": 9,
      "outputs": []
    },
    {
      "cell_type": "markdown",
      "metadata": {
        "id": "9Czk9pi_g-3v"
      },
      "source": [
        "Добавим сигмоидальную функцию активации."
      ]
    },
    {
      "cell_type": "code",
      "metadata": {
        "id": "GeeE85Xmg-En"
      },
      "source": [
        "import numpy as np\n",
        "\n",
        "def sigmoid(x):\n",
        "  s = np.array(x)\n",
        "  s = 1/(1+np.exp(-s))\n",
        "  return s"
      ],
      "execution_count": 10,
      "outputs": []
    },
    {
      "cell_type": "markdown",
      "metadata": {
        "id": "gusLP4BMv0ZJ"
      },
      "source": [
        "Зададим класс нейронной сети."
      ]
    },
    {
      "cell_type": "code",
      "metadata": {
        "id": "fd4R9-LIvzoH"
      },
      "source": [
        "# Класс находится в разработке\n",
        "# bcgjkm\n",
        "class NN:\n",
        "  \n",
        "  def __init__(self,input_layer,output, hidden_layers=None, hidden_nodes =None):\n",
        "    # Веса нейронных связей\n",
        "    self.w = None\n",
        "    # Смещение нейрона (bias)\n",
        "    self.b = None\n",
        "    if hidden_layers >1:\n",
        "      self.w = np.random.rand(hidden_layers-1,hidden_nodes,hidden_nodes)\n",
        "      \n",
        "    if hidden_layers >=1:\n",
        "      self.b = np.random.uniform(low=-0.2, high=0.2, size=(hidden_layers,hidden_nodes))\n",
        "    \n",
        "    # матрица внутренних нейронов имеет прямоугольный вид\n",
        "    hidden_neurons = np.zeros((hidden_layers,hidden_nodes))\n",
        "    \n",
        "  # двумерный fit\n",
        "  def fit(self,X,y):\n",
        "    self.input = np.zeros_like(X[-1])\n",
        "    self.output = np.zeros_like(y[-1])\n",
        "\n",
        "  def print_weights(self):\n",
        "    print(self.w)\n",
        "\n",
        "  def print_bias(self):\n",
        "    print(self.b)\n",
        "    "
      ],
      "execution_count": 11,
      "outputs": []
    },
    {
      "cell_type": "code",
      "metadata": {
        "id": "8hZWOrQ6tD70"
      },
      "source": [
        "# Класс находится в разработке\n",
        "# bcgjkm\n",
        "class NN:\n",
        "  \n",
        "  def __init__(self, nn_shape=None):\n",
        "    # Нейроны\n",
        "    self.neurons = []\n",
        "    # Веса нейронных связей\n",
        "    self.w = []\n",
        "    # Смещение нейрона (bias)\n",
        "    self.b = []\n",
        "    if nn_shape != None:\n",
        "      ## сделать throw exception, если len(nn_shape) == 1\n",
        "      # инициализируем нейроны\n",
        "      for layer in nn_shape:\n",
        "        self.neurons.append(np.zeros(layer))\n",
        "        \n",
        "      # инициализируем смещения\n",
        "      for i in range(1,len(nn_shape)):\n",
        "        self.b.append(np.random.uniform(low=-0.2, high=0.2, size=(nn_shape[i])))\n",
        "      ## Иницииализируем связи\n",
        "      for i in range(1,len(nn_shape)):\n",
        "        self.w.append(np.random.uniform(low=-0.5, high=0.5, size=(nn_shape[i],nn_shape[i-1])))\n",
        "\n",
        "  def sigmoid(x):\n",
        "    s = np.array(x)\n",
        "    s = 1/(1+np.exp(-s))\n",
        "    return s\n",
        "\n",
        "  def forward_propagation(self,data):\n",
        "    if len(data) == len(self.neurons[0]):\n",
        "      self.neurons[1][:]=data[:]\n",
        "\n",
        "      for i in range(1,len(self.neurons)):\n",
        "        for j in range(len(self.neurons[i])):\n",
        "          self.neurons[i][j]=sigmoid(np.dot(self.neurons[i-1],self.w[i-1][j])+self.b[i-1][j])\n",
        "    return self.neurons[-1]\n",
        "\n",
        "  def mutation(self):\n",
        "    layer_num_out = np.random.randint(1,len(self.neurons))\n",
        "    neur_out = np.random.randint(0,len(self.neurons[layer_num_out]))\n",
        "    neur_in = np.random.randint(0,len(self.neurons[layer_num_out-1]))\n",
        "    self.w[layer_num_out-1][neur_out][neur_in] += np.random.normal(loc=0,scale=2)\n",
        "\n",
        "\n",
        "  def print_weights(self):\n",
        "    print(self.w)\n",
        "  \n",
        "  def print_bias(self):\n",
        "    print(self.b)\n",
        "\n",
        "  def print_neurons(self):\n",
        "    print(self.neurons)\n"
      ],
      "execution_count": 52,
      "outputs": []
    },
    {
      "cell_type": "code",
      "metadata": {
        "colab": {
          "base_uri": "https://localhost:8080/"
        },
        "id": "re0F50E2xcIB",
        "outputId": "615fa754-e99e-4932-91cb-03028eeb97ce"
      },
      "source": [
        "neur = NN(nn_shape=(1,2,3))\n",
        "\n",
        "neur.print_weights()\n",
        "\n",
        "neur.print_bias()\n",
        "\n",
        "data_test_test = np.array([1])\n",
        "print(neur.forward_propagation(data_test_test))\n",
        "\n",
        "neur.mutation()\n",
        "\n",
        "print(neur.forward_propagation(data_test_test))\n"
      ],
      "execution_count": 58,
      "outputs": [
        {
          "output_type": "stream",
          "text": [
            "[array([[-0.336407  ],\n",
            "       [-0.09928523]]), array([[-0.25214041, -0.40388069],\n",
            "       [ 0.448842  , -0.45944817],\n",
            "       [-0.14254356,  0.07958463]])]\n",
            "[array([-0.05944688, -0.03017699]), array([ 0.12192629, -0.08095128, -0.15787958])]\n",
            "[0.4503414  0.47765064 0.4531772 ]\n",
            "[0.4503414  0.47765064 0.4531772 ]\n"
          ],
          "name": "stdout"
        }
      ]
    },
    {
      "cell_type": "code",
      "metadata": {
        "colab": {
          "base_uri": "https://localhost:8080/"
        },
        "id": "-K2fuQGYmbOM",
        "outputId": "6e926375-3ff5-46e9-cddc-a215b2fa3bec"
      },
      "source": [
        "np.random.randint(1,2)"
      ],
      "execution_count": 55,
      "outputs": [
        {
          "output_type": "execute_result",
          "data": {
            "text/plain": [
              "1"
            ]
          },
          "metadata": {
            "tags": []
          },
          "execution_count": 55
        }
      ]
    },
    {
      "cell_type": "code",
      "metadata": {
        "id": "beAS0RM7qDqb"
      },
      "source": [
        ""
      ],
      "execution_count": null,
      "outputs": []
    }
  ]
}