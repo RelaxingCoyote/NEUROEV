{
  "nbformat": 4,
  "nbformat_minor": 0,
  "metadata": {
    "colab": {
      "name": "NCL_Khayrov.ipynb",
      "provenance": [],
      "collapsed_sections": [],
      "authorship_tag": "ABX9TyPCMXTVtGBRc5TmM9JAM3s2",
      "include_colab_link": true
    },
    "kernelspec": {
      "name": "python3",
      "display_name": "Python 3"
    }
  },
  "cells": [
    {
      "cell_type": "markdown",
      "metadata": {
        "id": "view-in-github",
        "colab_type": "text"
      },
      "source": [
        "<a href=\"https://colab.research.google.com/github/RelaxingCoyote/NEUROEV/blob/feature/NCL_Khayrov.ipynb\" target=\"_parent\"><img src=\"https://colab.research.google.com/assets/colab-badge.svg\" alt=\"Open In Colab\"/></a>"
      ]
    },
    {
      "cell_type": "markdown",
      "metadata": {
        "id": "4AF9porDi__B"
      },
      "source": [
        "#Нейроэволюционные вычисления"
      ]
    },
    {
      "cell_type": "markdown",
      "metadata": {
        "id": "MSdEKikMh9kf"
      },
      "source": [
        "[![Open In Colab](https://colab.research.google.com/assets/colab-badge.svg)](https://colab.research.google.com/drive/1-EpdWG47AK3_W6bAYBrHNKM6vCYej-O3#scrollTo=MSdEKikMh9kf)"
      ]
    },
    {
      "cell_type": "code",
      "metadata": {
        "colab": {
          "base_uri": "https://localhost:8080/"
        },
        "id": "CV4aRBkQiDtP",
        "outputId": "be059cc8-790b-46b7-a0b1-907b766c1e6f"
      },
      "source": [
        "# Подключаем гугл-диск\n",
        "from google.colab import drive\n",
        "drive.mount(\"/content/gdrive\", force_remount=True)"
      ],
      "execution_count": 1,
      "outputs": [
        {
          "output_type": "stream",
          "text": [
            "Mounted at /content/gdrive\n"
          ],
          "name": "stdout"
        }
      ]
    },
    {
      "cell_type": "code",
      "metadata": {
        "colab": {
          "base_uri": "https://localhost:8080/"
        },
        "id": "kddRjrRGOnxL",
        "outputId": "d8c36246-23e8-4ae7-c9f8-ba39db71bf91"
      },
      "source": [
        "pip install datatable"
      ],
      "execution_count": 2,
      "outputs": [
        {
          "output_type": "stream",
          "text": [
            "Collecting datatable\n",
            "\u001b[?25l  Downloading https://files.pythonhosted.org/packages/26/fc/d780b150eeae26e0a14b964f27eefcf9fad746f16e0b05c40098d84913d7/datatable-0.11.1-cp37-cp37m-manylinux2010_x86_64.whl (83.9MB)\n",
            "\u001b[K     |████████████████████████████████| 83.9MB 82kB/s \n",
            "\u001b[?25hInstalling collected packages: datatable\n",
            "Successfully installed datatable-0.11.1\n"
          ],
          "name": "stdout"
        }
      ]
    },
    {
      "cell_type": "code",
      "metadata": {
        "colab": {
          "base_uri": "https://localhost:8080/"
        },
        "id": "aFLNrkClOqeh",
        "outputId": "f6a3c97a-e023-4bb4-bb2a-a4deb4c247da"
      },
      "source": [
        "import datatable as dt\n",
        "print(dt.__version__)"
      ],
      "execution_count": 3,
      "outputs": [
        {
          "output_type": "stream",
          "text": [
            "0.11.1\n"
          ],
          "name": "stdout"
        }
      ]
    },
    {
      "cell_type": "code",
      "metadata": {
        "colab": {
          "base_uri": "https://localhost:8080/",
          "height": 905
        },
        "id": "FMmbw_CJPE-i",
        "outputId": "a9b420cb-c4b6-452a-f0c4-c36287e8c4dc"
      },
      "source": [
        "DT = dt.fread('/content/gdrive/MyDrive/Machine Learning/NEUROEV/cancer1.dt')\n",
        "DT"
      ],
      "execution_count": 13,
      "outputs": [
        {
          "output_type": "stream",
          "text": [
            "    | C0                         C1    C2    C3    C4    C5    C6    C7    C8  C9  C10\n",
            "--- + -----------------------  ----  ----  ----  ----  ----  ----  ----  ----  --  ---\n",
            "  0 | bool_in=0                NA    NA    NA    NA    NA    NA    NA    NA    NA   NA\n",
            "  1 | real_in=9                NA    NA    NA    NA    NA    NA    NA    NA    NA   NA\n",
            "  2 | bool_out=2               NA    NA    NA    NA    NA    NA    NA    NA    NA   NA\n",
            "  3 | real_out=0               NA    NA    NA    NA    NA    NA    NA    NA    NA   NA\n",
            "  4 | training_examples=350    NA    NA    NA    NA    NA    NA    NA    NA    NA   NA\n",
            "  5 | validation_examples=175  NA    NA    NA    NA    NA    NA    NA    NA    NA   NA\n",
            "  6 | test_examples=174        NA    NA    NA    NA    NA    NA    NA    NA    NA   NA\n",
            "  7 | 0.2                       0.1   0.1   0.1   0.2   0.1   0.2   0.1   0.1   1    0\n",
            "  8 | 0.2                       0.1   0.1   0.1   0.2   0.1   0.3   0.1   0.1   1    0\n",
            "  9 | 0.5                       0.1   0.1   0.1   0.2   0.1   0.2   0.1   0.1   1    0\n",
            " 10 | 0.5                       0.4   0.6   0.8   0.4   0.1   0.8   1     0.1   0    1\n",
            " 11 | 0.5                       0.3   0.3   0.1   0.2   0.1   0.2   0.1   0.1   1    0\n",
            " 12 | 0.2                       0.3   0.1   0.1   0.3   0.1   0.1   0.1   0.1   1    0\n",
            " 13 | 0.3                       0.5   0.7   0.8   0.8   0.9   0.7   1     0.7   0    1\n",
            " 14 | 1                         0.5   0.6   1     0.6   1     0.7   0.7   1     0    1\n",
            "  … | …                           …     …     …     …     …     …     …     …   …    …\n",
            "701 | 0.5                       0.1   0.2   0.1   0.2   0.1   0.1   0.1   0.1   1    0\n",
            "702 | 0.7                       0.5   0.6   1     0.5   1     0.7   0.9   0.4   0    1\n",
            "703 | 0.6                       1     1     1     0.8   1     0.7   1     0.7   0    1\n",
            "704 | 0.5                       0.7   1     1     0.5   1     1     1     0.1   0    1\n",
            "705 | 0.1                       0.1   0.1   0.1   0.2   0.1   0.2   0.1   0.1   1    0\n",
            "\n",
            "[706 rows x 11 columns]\n"
          ],
          "name": "stdout"
        },
        {
          "output_type": "execute_result",
          "data": {
            "text/html": [
              "<div class='datatable'>\n",
              "  <table class='frame'>\n",
              "  <thead>\n",
              "    <tr class='colnames'><td class='row_index'></td><th>C0</th><th>C1</th><th>C2</th><th>C3</th><th>C4</th><th>C5</th><th>C6</th><th>C7</th><th>C8</th><th>C9</th><th>C10</th></tr>\n",
              "    <tr class='coltypes'><td class='row_index'></td><td class='str' title='str32'>&#x25AA;&#x25AA;&#x25AA;&#x25AA;</td><td class='float' title='float64'>&#x25AA;&#x25AA;&#x25AA;&#x25AA;&#x25AA;&#x25AA;&#x25AA;&#x25AA;</td><td class='float' title='float64'>&#x25AA;&#x25AA;&#x25AA;&#x25AA;&#x25AA;&#x25AA;&#x25AA;&#x25AA;</td><td class='float' title='float64'>&#x25AA;&#x25AA;&#x25AA;&#x25AA;&#x25AA;&#x25AA;&#x25AA;&#x25AA;</td><td class='float' title='float64'>&#x25AA;&#x25AA;&#x25AA;&#x25AA;&#x25AA;&#x25AA;&#x25AA;&#x25AA;</td><td class='float' title='float64'>&#x25AA;&#x25AA;&#x25AA;&#x25AA;&#x25AA;&#x25AA;&#x25AA;&#x25AA;</td><td class='float' title='float64'>&#x25AA;&#x25AA;&#x25AA;&#x25AA;&#x25AA;&#x25AA;&#x25AA;&#x25AA;</td><td class='float' title='float64'>&#x25AA;&#x25AA;&#x25AA;&#x25AA;&#x25AA;&#x25AA;&#x25AA;&#x25AA;</td><td class='float' title='float64'>&#x25AA;&#x25AA;&#x25AA;&#x25AA;&#x25AA;&#x25AA;&#x25AA;&#x25AA;</td><td class='bool' title='bool8'>&#x25AA;</td><td class='bool' title='bool8'>&#x25AA;</td></tr>\n",
              "  </thead>\n",
              "  <tbody>\n",
              "    <tr><td class='row_index'>0</td><td>bool_in=0</td><td><span class=na>NA</span></td><td><span class=na>NA</span></td><td><span class=na>NA</span></td><td><span class=na>NA</span></td><td><span class=na>NA</span></td><td><span class=na>NA</span></td><td><span class=na>NA</span></td><td><span class=na>NA</span></td><td><span class=na>NA</span></td><td><span class=na>NA</span></td></tr>\n",
              "    <tr><td class='row_index'>1</td><td>real_in=9</td><td><span class=na>NA</span></td><td><span class=na>NA</span></td><td><span class=na>NA</span></td><td><span class=na>NA</span></td><td><span class=na>NA</span></td><td><span class=na>NA</span></td><td><span class=na>NA</span></td><td><span class=na>NA</span></td><td><span class=na>NA</span></td><td><span class=na>NA</span></td></tr>\n",
              "    <tr><td class='row_index'>2</td><td>bool_out=2</td><td><span class=na>NA</span></td><td><span class=na>NA</span></td><td><span class=na>NA</span></td><td><span class=na>NA</span></td><td><span class=na>NA</span></td><td><span class=na>NA</span></td><td><span class=na>NA</span></td><td><span class=na>NA</span></td><td><span class=na>NA</span></td><td><span class=na>NA</span></td></tr>\n",
              "    <tr><td class='row_index'>3</td><td>real_out=0</td><td><span class=na>NA</span></td><td><span class=na>NA</span></td><td><span class=na>NA</span></td><td><span class=na>NA</span></td><td><span class=na>NA</span></td><td><span class=na>NA</span></td><td><span class=na>NA</span></td><td><span class=na>NA</span></td><td><span class=na>NA</span></td><td><span class=na>NA</span></td></tr>\n",
              "    <tr><td class='row_index'>4</td><td>training_examples=350</td><td><span class=na>NA</span></td><td><span class=na>NA</span></td><td><span class=na>NA</span></td><td><span class=na>NA</span></td><td><span class=na>NA</span></td><td><span class=na>NA</span></td><td><span class=na>NA</span></td><td><span class=na>NA</span></td><td><span class=na>NA</span></td><td><span class=na>NA</span></td></tr>\n",
              "    <tr><td class='row_index'>5</td><td>validation_examples=175</td><td><span class=na>NA</span></td><td><span class=na>NA</span></td><td><span class=na>NA</span></td><td><span class=na>NA</span></td><td><span class=na>NA</span></td><td><span class=na>NA</span></td><td><span class=na>NA</span></td><td><span class=na>NA</span></td><td><span class=na>NA</span></td><td><span class=na>NA</span></td></tr>\n",
              "    <tr><td class='row_index'>6</td><td>test_examples=174</td><td><span class=na>NA</span></td><td><span class=na>NA</span></td><td><span class=na>NA</span></td><td><span class=na>NA</span></td><td><span class=na>NA</span></td><td><span class=na>NA</span></td><td><span class=na>NA</span></td><td><span class=na>NA</span></td><td><span class=na>NA</span></td><td><span class=na>NA</span></td></tr>\n",
              "    <tr><td class='row_index'>7</td><td>0.2</td><td>0.1</td><td>0.1</td><td>0.1</td><td>0.2</td><td>0.1</td><td>0.2</td><td>0.1</td><td>0.1</td><td>1</td><td>0</td></tr>\n",
              "    <tr><td class='row_index'>8</td><td>0.2</td><td>0.1</td><td>0.1</td><td>0.1</td><td>0.2</td><td>0.1</td><td>0.3</td><td>0.1</td><td>0.1</td><td>1</td><td>0</td></tr>\n",
              "    <tr><td class='row_index'>9</td><td>0.5</td><td>0.1</td><td>0.1</td><td>0.1</td><td>0.2</td><td>0.1</td><td>0.2</td><td>0.1</td><td>0.1</td><td>1</td><td>0</td></tr>\n",
              "    <tr><td class='row_index'>10</td><td>0.5</td><td>0.4</td><td>0.6</td><td>0.8</td><td>0.4</td><td>0.1</td><td>0.8</td><td>1</td><td>0.1</td><td>0</td><td>1</td></tr>\n",
              "    <tr><td class='row_index'>11</td><td>0.5</td><td>0.3</td><td>0.3</td><td>0.1</td><td>0.2</td><td>0.1</td><td>0.2</td><td>0.1</td><td>0.1</td><td>1</td><td>0</td></tr>\n",
              "    <tr><td class='row_index'>12</td><td>0.2</td><td>0.3</td><td>0.1</td><td>0.1</td><td>0.3</td><td>0.1</td><td>0.1</td><td>0.1</td><td>0.1</td><td>1</td><td>0</td></tr>\n",
              "    <tr><td class='row_index'>13</td><td>0.3</td><td>0.5</td><td>0.7</td><td>0.8</td><td>0.8</td><td>0.9</td><td>0.7</td><td>1</td><td>0.7</td><td>0</td><td>1</td></tr>\n",
              "    <tr><td class='row_index'>14</td><td>1</td><td>0.5</td><td>0.6</td><td>1</td><td>0.6</td><td>1</td><td>0.7</td><td>0.7</td><td>1</td><td>0</td><td>1</td></tr>\n",
              "    <tr><td class='row_index'>&#x22EE;</td><td class='hellipsis'>&#x22EE;</td><td class='hellipsis'>&#x22EE;</td><td class='hellipsis'>&#x22EE;</td><td class='hellipsis'>&#x22EE;</td><td class='hellipsis'>&#x22EE;</td><td class='hellipsis'>&#x22EE;</td><td class='hellipsis'>&#x22EE;</td><td class='hellipsis'>&#x22EE;</td><td class='hellipsis'>&#x22EE;</td><td class='hellipsis'>&#x22EE;</td><td class='hellipsis'>&#x22EE;</td></tr>\n",
              "    <tr><td class='row_index'>701</td><td>0.5</td><td>0.1</td><td>0.2</td><td>0.1</td><td>0.2</td><td>0.1</td><td>0.1</td><td>0.1</td><td>0.1</td><td>1</td><td>0</td></tr>\n",
              "    <tr><td class='row_index'>702</td><td>0.7</td><td>0.5</td><td>0.6</td><td>1</td><td>0.5</td><td>1</td><td>0.7</td><td>0.9</td><td>0.4</td><td>0</td><td>1</td></tr>\n",
              "    <tr><td class='row_index'>703</td><td>0.6</td><td>1</td><td>1</td><td>1</td><td>0.8</td><td>1</td><td>0.7</td><td>1</td><td>0.7</td><td>0</td><td>1</td></tr>\n",
              "    <tr><td class='row_index'>704</td><td>0.5</td><td>0.7</td><td>1</td><td>1</td><td>0.5</td><td>1</td><td>1</td><td>1</td><td>0.1</td><td>0</td><td>1</td></tr>\n",
              "    <tr><td class='row_index'>705</td><td>0.1</td><td>0.1</td><td>0.1</td><td>0.1</td><td>0.2</td><td>0.1</td><td>0.2</td><td>0.1</td><td>0.1</td><td>1</td><td>0</td></tr>\n",
              "  </tbody>\n",
              "  </table>\n",
              "  <div class='footer'>\n",
              "    <div class='frame_dimensions'>706 rows &times; 11 columns</div>\n",
              "  </div>\n",
              "</div>\n"
            ],
            "text/plain": [
              ""
            ]
          },
          "metadata": {
            "tags": []
          },
          "execution_count": 13
        }
      ]
    },
    {
      "cell_type": "code",
      "metadata": {
        "colab": {
          "base_uri": "https://localhost:8080/",
          "height": 905
        },
        "id": "zRhY721si0sL",
        "outputId": "76b64117-d0ea-4477-d711-c9bdb6a98a37"
      },
      "source": [
        "del DT[0:7,:]\n",
        "DT"
      ],
      "execution_count": 14,
      "outputs": [
        {
          "output_type": "stream",
          "text": [
            "    | C0    C1   C2   C3   C4   C5   C6   C7   C8  C9  C10\n",
            "--- + ---  ---  ---  ---  ---  ---  ---  ---  ---  --  ---\n",
            "  0 | 0.2  0.1  0.1  0.1  0.2  0.1  0.2  0.1  0.1   1    0\n",
            "  1 | 0.2  0.1  0.1  0.1  0.2  0.1  0.3  0.1  0.1   1    0\n",
            "  2 | 0.5  0.1  0.1  0.1  0.2  0.1  0.2  0.1  0.1   1    0\n",
            "  3 | 0.5  0.4  0.6  0.8  0.4  0.1  0.8  1    0.1   0    1\n",
            "  4 | 0.5  0.3  0.3  0.1  0.2  0.1  0.2  0.1  0.1   1    0\n",
            "  5 | 0.2  0.3  0.1  0.1  0.3  0.1  0.1  0.1  0.1   1    0\n",
            "  6 | 0.3  0.5  0.7  0.8  0.8  0.9  0.7  1    0.7   0    1\n",
            "  7 | 1    0.5  0.6  1    0.6  1    0.7  0.7  1     0    1\n",
            "  8 | 1    0.9  0.8  0.7  0.6  0.4  0.7  1    0.3   0    1\n",
            "  9 | 0.4  0.1  0.1  0.1  0.2  0.1  0.3  0.1  0.1   1    0\n",
            " 10 | 0.5  0.1  0.1  0.1  0.2  0.1  0.3  0.1  0.1   1    0\n",
            " 11 | 0.8  1    1    0.1  0.3  0.6  0.3  0.9  0.1   0    1\n",
            " 12 | 0.1  0.1  0.3  0.1  0.2  0.1  0.2  0.1  0.1   1    0\n",
            " 13 | 0.1  0.1  0.1  0.2  0.1  0.1  0.1  0.1  0.1   1    0\n",
            " 14 | 0.3  0.4  0.5  0.2  0.6  0.8  0.4  0.1  0.1   0    1\n",
            "  … | …      …    …    …    …    …    …    …    …   …    …\n",
            "694 | 0.5  0.1  0.2  0.1  0.2  0.1  0.1  0.1  0.1   1    0\n",
            "695 | 0.7  0.5  0.6  1    0.5  1    0.7  0.9  0.4   0    1\n",
            "696 | 0.6  1    1    1    0.8  1    0.7  1    0.7   0    1\n",
            "697 | 0.5  0.7  1    1    0.5  1    1    1    0.1   0    1\n",
            "698 | 0.1  0.1  0.1  0.1  0.2  0.1  0.2  0.1  0.1   1    0\n",
            "\n",
            "[699 rows x 11 columns]\n"
          ],
          "name": "stdout"
        },
        {
          "output_type": "execute_result",
          "data": {
            "text/html": [
              "<div class='datatable'>\n",
              "  <table class='frame'>\n",
              "  <thead>\n",
              "    <tr class='colnames'><td class='row_index'></td><th>C0</th><th>C1</th><th>C2</th><th>C3</th><th>C4</th><th>C5</th><th>C6</th><th>C7</th><th>C8</th><th>C9</th><th>C10</th></tr>\n",
              "    <tr class='coltypes'><td class='row_index'></td><td class='str' title='str32'>&#x25AA;&#x25AA;&#x25AA;&#x25AA;</td><td class='float' title='float64'>&#x25AA;&#x25AA;&#x25AA;&#x25AA;&#x25AA;&#x25AA;&#x25AA;&#x25AA;</td><td class='float' title='float64'>&#x25AA;&#x25AA;&#x25AA;&#x25AA;&#x25AA;&#x25AA;&#x25AA;&#x25AA;</td><td class='float' title='float64'>&#x25AA;&#x25AA;&#x25AA;&#x25AA;&#x25AA;&#x25AA;&#x25AA;&#x25AA;</td><td class='float' title='float64'>&#x25AA;&#x25AA;&#x25AA;&#x25AA;&#x25AA;&#x25AA;&#x25AA;&#x25AA;</td><td class='float' title='float64'>&#x25AA;&#x25AA;&#x25AA;&#x25AA;&#x25AA;&#x25AA;&#x25AA;&#x25AA;</td><td class='float' title='float64'>&#x25AA;&#x25AA;&#x25AA;&#x25AA;&#x25AA;&#x25AA;&#x25AA;&#x25AA;</td><td class='float' title='float64'>&#x25AA;&#x25AA;&#x25AA;&#x25AA;&#x25AA;&#x25AA;&#x25AA;&#x25AA;</td><td class='float' title='float64'>&#x25AA;&#x25AA;&#x25AA;&#x25AA;&#x25AA;&#x25AA;&#x25AA;&#x25AA;</td><td class='bool' title='bool8'>&#x25AA;</td><td class='bool' title='bool8'>&#x25AA;</td></tr>\n",
              "  </thead>\n",
              "  <tbody>\n",
              "    <tr><td class='row_index'>0</td><td>0.2</td><td>0.1</td><td>0.1</td><td>0.1</td><td>0.2</td><td>0.1</td><td>0.2</td><td>0.1</td><td>0.1</td><td>1</td><td>0</td></tr>\n",
              "    <tr><td class='row_index'>1</td><td>0.2</td><td>0.1</td><td>0.1</td><td>0.1</td><td>0.2</td><td>0.1</td><td>0.3</td><td>0.1</td><td>0.1</td><td>1</td><td>0</td></tr>\n",
              "    <tr><td class='row_index'>2</td><td>0.5</td><td>0.1</td><td>0.1</td><td>0.1</td><td>0.2</td><td>0.1</td><td>0.2</td><td>0.1</td><td>0.1</td><td>1</td><td>0</td></tr>\n",
              "    <tr><td class='row_index'>3</td><td>0.5</td><td>0.4</td><td>0.6</td><td>0.8</td><td>0.4</td><td>0.1</td><td>0.8</td><td>1</td><td>0.1</td><td>0</td><td>1</td></tr>\n",
              "    <tr><td class='row_index'>4</td><td>0.5</td><td>0.3</td><td>0.3</td><td>0.1</td><td>0.2</td><td>0.1</td><td>0.2</td><td>0.1</td><td>0.1</td><td>1</td><td>0</td></tr>\n",
              "    <tr><td class='row_index'>5</td><td>0.2</td><td>0.3</td><td>0.1</td><td>0.1</td><td>0.3</td><td>0.1</td><td>0.1</td><td>0.1</td><td>0.1</td><td>1</td><td>0</td></tr>\n",
              "    <tr><td class='row_index'>6</td><td>0.3</td><td>0.5</td><td>0.7</td><td>0.8</td><td>0.8</td><td>0.9</td><td>0.7</td><td>1</td><td>0.7</td><td>0</td><td>1</td></tr>\n",
              "    <tr><td class='row_index'>7</td><td>1</td><td>0.5</td><td>0.6</td><td>1</td><td>0.6</td><td>1</td><td>0.7</td><td>0.7</td><td>1</td><td>0</td><td>1</td></tr>\n",
              "    <tr><td class='row_index'>8</td><td>1</td><td>0.9</td><td>0.8</td><td>0.7</td><td>0.6</td><td>0.4</td><td>0.7</td><td>1</td><td>0.3</td><td>0</td><td>1</td></tr>\n",
              "    <tr><td class='row_index'>9</td><td>0.4</td><td>0.1</td><td>0.1</td><td>0.1</td><td>0.2</td><td>0.1</td><td>0.3</td><td>0.1</td><td>0.1</td><td>1</td><td>0</td></tr>\n",
              "    <tr><td class='row_index'>10</td><td>0.5</td><td>0.1</td><td>0.1</td><td>0.1</td><td>0.2</td><td>0.1</td><td>0.3</td><td>0.1</td><td>0.1</td><td>1</td><td>0</td></tr>\n",
              "    <tr><td class='row_index'>11</td><td>0.8</td><td>1</td><td>1</td><td>0.1</td><td>0.3</td><td>0.6</td><td>0.3</td><td>0.9</td><td>0.1</td><td>0</td><td>1</td></tr>\n",
              "    <tr><td class='row_index'>12</td><td>0.1</td><td>0.1</td><td>0.3</td><td>0.1</td><td>0.2</td><td>0.1</td><td>0.2</td><td>0.1</td><td>0.1</td><td>1</td><td>0</td></tr>\n",
              "    <tr><td class='row_index'>13</td><td>0.1</td><td>0.1</td><td>0.1</td><td>0.2</td><td>0.1</td><td>0.1</td><td>0.1</td><td>0.1</td><td>0.1</td><td>1</td><td>0</td></tr>\n",
              "    <tr><td class='row_index'>14</td><td>0.3</td><td>0.4</td><td>0.5</td><td>0.2</td><td>0.6</td><td>0.8</td><td>0.4</td><td>0.1</td><td>0.1</td><td>0</td><td>1</td></tr>\n",
              "    <tr><td class='row_index'>&#x22EE;</td><td class='hellipsis'>&#x22EE;</td><td class='hellipsis'>&#x22EE;</td><td class='hellipsis'>&#x22EE;</td><td class='hellipsis'>&#x22EE;</td><td class='hellipsis'>&#x22EE;</td><td class='hellipsis'>&#x22EE;</td><td class='hellipsis'>&#x22EE;</td><td class='hellipsis'>&#x22EE;</td><td class='hellipsis'>&#x22EE;</td><td class='hellipsis'>&#x22EE;</td><td class='hellipsis'>&#x22EE;</td></tr>\n",
              "    <tr><td class='row_index'>694</td><td>0.5</td><td>0.1</td><td>0.2</td><td>0.1</td><td>0.2</td><td>0.1</td><td>0.1</td><td>0.1</td><td>0.1</td><td>1</td><td>0</td></tr>\n",
              "    <tr><td class='row_index'>695</td><td>0.7</td><td>0.5</td><td>0.6</td><td>1</td><td>0.5</td><td>1</td><td>0.7</td><td>0.9</td><td>0.4</td><td>0</td><td>1</td></tr>\n",
              "    <tr><td class='row_index'>696</td><td>0.6</td><td>1</td><td>1</td><td>1</td><td>0.8</td><td>1</td><td>0.7</td><td>1</td><td>0.7</td><td>0</td><td>1</td></tr>\n",
              "    <tr><td class='row_index'>697</td><td>0.5</td><td>0.7</td><td>1</td><td>1</td><td>0.5</td><td>1</td><td>1</td><td>1</td><td>0.1</td><td>0</td><td>1</td></tr>\n",
              "    <tr><td class='row_index'>698</td><td>0.1</td><td>0.1</td><td>0.1</td><td>0.1</td><td>0.2</td><td>0.1</td><td>0.2</td><td>0.1</td><td>0.1</td><td>1</td><td>0</td></tr>\n",
              "  </tbody>\n",
              "  </table>\n",
              "  <div class='footer'>\n",
              "    <div class='frame_dimensions'>699 rows &times; 11 columns</div>\n",
              "  </div>\n",
              "</div>\n"
            ],
            "text/plain": [
              ""
            ]
          },
          "metadata": {
            "tags": []
          },
          "execution_count": 14
        }
      ]
    },
    {
      "cell_type": "code",
      "metadata": {
        "id": "eUxUUqVfleOm"
      },
      "source": [
        ""
      ],
      "execution_count": null,
      "outputs": []
    }
  ]
}